{
 "cells": [
  {
   "cell_type": "code",
   "execution_count": 1,
   "metadata": {},
   "outputs": [],
   "source": [
    "%matplotlib inline\n",
    "import matplotlib.pyplot as plt\n",
    "import matplotlib.image as mpimg\n",
    "import numpy as np\n",
    "import math\n",
    "\n",
    "# need to install line_profiler\n",
    "# username$ conda install line_profiler\n",
    "%load_ext line_profiler"
   ]
  },
  {
   "cell_type": "code",
   "execution_count": 2,
   "metadata": {
    "collapsed": true
   },
   "outputs": [],
   "source": [
    "# This function replicates bacteria when bacthist catches up with bacthist\n",
    "def repBacteria(bactpos,bactrep,bacthist,nlive):\n",
    "    repind = bactrep < bacthist[0:nlive]           #indices of bacteria that will replicate\n",
    "    repind = repind.reshape(nlive)                 #reshape repind for indexing\n",
    "    nrep = np.sum(repind)                          #number of bacteria that replicate\n",
    "    newbact = bactpos[repind,:]                    #positions of newly-replicated bacteria\n",
    "    bacthist[0:nlive][repind] = 0                  #bacterial history is reset to zero\n",
    "    return bacthist,newbact,nrep\n",
    "\n",
    "# This function runs the simulation in a for loop\n",
    "def runSimulation(step,nlive,D,delt,dTime,sigma,bactpos,bacthist,bactrep,bacteria_number):\n",
    "    \n",
    "    while(1):\n",
    "    \n",
    "        # Step 1: calculate time\n",
    "        bacthist[0:nlive] = bacthist[0:nlive] + delt\n",
    "    \n",
    "        # Step 2: calculate size of bacterial steps\n",
    "        delxy = np.random.normal(0,1,[nlive,2])*math.sqrt(2*D*delt)\n",
    "        bactpos[0:nlive] = bactpos[0:nlive] + delxy\n",
    "    \n",
    "        # Step 3: replicate bacteria\n",
    "        bacthist,newbact,nrep = repBacteria(bactpos[0:nlive],bactrep[0:nlive],bacthist,nlive)\n",
    "        if nrep>0:\n",
    "            bactpos[nlive:nlive+nrep] = newbact\n",
    "            bactrep[nlive:nlive+nrep] = np.random.normal(dTime, sigma, [nrep,1])\n",
    "            nlive += nrep\n",
    "        bacteria_number[step] = nlive\n",
    "        step+=1\n",
    "        \n",
    "        # Step 4: end simulation if you have accumulated enough bacteria\n",
    "        if nlive>maxnbact:\n",
    "            return bactpos,bacteria_number,nlive,step\n",
    "\n",
    "# This function sets up more parameters and calls runSimulation\n",
    "def startSimulation(nlive,D,krep,maxnbact):\n",
    "    \n",
    "    # Set up more simulation parameters\n",
    "    delt = 0.01                                 # time step\n",
    "    dTime = math.log(2)/krep                    # doubling time\n",
    "    sigma = dTime/5                             # width of distribution\n",
    "    bactpos = np.zeros((int(1.1e5),2))          # positions of bacteria\n",
    "    bacthist = np.zeros((int(1.1e5),1))         # time experience by bacteria\n",
    "    bactrep = np.zeros((int(1.1e5),1))          # doubling times for bacteria\n",
    "    maxstep = 5000                              # max number of steps allowed\n",
    "    bacteria_number = np.zeros((maxstep,1))     # keep track of number of bacteria\n",
    "    time = np.zeros((maxstep,1))                # keep track of passing time\n",
    "\n",
    "    # assign doubling times to initial bacteria (normally distributed)\n",
    "    bactrep[0:nlive] = np.random.normal(dTime, sigma, [nlive,1])\n",
    "\n",
    "    return runSimulation(0,nlive,D,delt,dTime,sigma,bactpos,bacthist,bactrep,bacteria_number)\n"
   ]
  },
  {
   "cell_type": "code",
   "execution_count": 3,
   "metadata": {
    "collapsed": true
   },
   "outputs": [],
   "source": [
    "# Use this block of code to run simulation\n",
    "\n",
    "# Simulation parameters\n",
    "nlive = 25                  # initial number of bacteria\n",
    "D = 1.0                     # diffusion coefficient\n",
    "krep = 1.0                  # replication rate\n",
    "maxnbact = int(1e5)         # max number of bacteria\n",
    "    \n",
    "# Run simulation\n",
    "bactpos,bacteria_number,maxlive,step = startSimulation(nlive,D,krep,maxnbact)"
   ]
  },
  {
   "cell_type": "code",
   "execution_count": 4,
   "metadata": {},
   "outputs": [
    {
     "data": {
      "text/plain": [
       "<function matplotlib.pyplot.show>"
      ]
     },
     "execution_count": 4,
     "metadata": {},
     "output_type": "execute_result"
    },
    {
     "data": {
      "image/png": "[encoded data removed]",
      "text/plain": [
       "<matplotlib.figure.Figure at 0x10c5b87d0>"
      ]
     },
     "metadata": {},
     "output_type": "display_data"
    }
   ],
   "source": [
    "# Plot final shape of bacterial focus\n",
    "plt.scatter(bactpos[0:maxlive][:,0], bactpos[0:maxlive][:,1])\n",
    "plt.axis('equal')\n",
    "plt.show"
   ]
  },
  {
   "cell_type": "code",
   "execution_count": 5,
   "metadata": {},
   "outputs": [
    {
     "data": {
      "text/plain": [
       "<function matplotlib.pyplot.show>"
      ]
     },
     "execution_count": 5,
     "metadata": {},
     "output_type": "execute_result"
    },
    {
     "data": {
      "image/png": "[encoded data removed]",
      "text/plain": [
       "<matplotlib.figure.Figure at 0x10893e390>"
      ]
     },
     "metadata": {},
     "output_type": "display_data"
    }
   ],
   "source": [
    "# Plot exponential bacterial growth\n",
    "maxTime = step*0.01\n",
    "time = np.arange(0, maxTime, 0.01)\n",
    "plt.plot(time[0:step],bacteria_number[0:step])\n",
    "plt.xlabel('Time')\n",
    "plt.ylabel('Number of Bacteria')\n",
    "plt.title('Exponential Bacterial Growth')\n",
    "plt.show"
   ]
  },
  {
   "cell_type": "code",
   "execution_count": 9,
   "metadata": {
    "collapsed": true
   },
   "outputs": [],
   "source": [
    "# Use this to profile the simulation line by line\n",
    "\n",
    "%lprun -f startSimulation startSimulation(nlive,D,krep,maxnbact)"
   ]
  },
  {
   "cell_type": "code",
   "execution_count": null,
   "metadata": {
    "collapsed": true
   },
   "outputs": [],
   "source": []
  }
 ],
 "metadata": {
  "kernelspec": {
   "display_name": "Python 2",
   "language": "python",
   "name": "python2"
  },
  "language_info": {
   "codemirror_mode": {
    "name": "ipython",
    "version": 2
   },
   "file_extension": ".py",
   "mimetype": "text/x-python",
   "name": "python",
   "nbconvert_exporter": "python",
   "pygments_lexer": "ipython2",
   "version": "2.7.14"
  }
 },
 "nbformat": 4,
 "nbformat_minor": 2
}
