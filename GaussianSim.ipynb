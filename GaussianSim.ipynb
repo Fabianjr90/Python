{
 "cells": [
  {
   "cell_type": "code",
   "execution_count": 13,
   "metadata": {},
   "outputs": [
    {
     "name": "stdout",
     "output_type": "stream",
     "text": [
      "The line_profiler extension is already loaded. To reload it, use:\n",
      "  %reload_ext line_profiler\n",
      "The Cython extension is already loaded. To reload it, use:\n",
      "  %reload_ext Cython\n"
     ]
    }
   ],
   "source": [
    "# to see outputs from matplotlib\n",
    "%matplotlib inline\n",
    "\n",
    "# need to install line_profiler: username$ conda install line_profiler\n",
    "# used to do a line-by-line analysis of the efficiency of the code\n",
    "%load_ext line_profiler\n",
    "\n",
    "# load cython to make random number generation faster\n",
    "%load_ext Cython"
   ]
  },
  {
   "cell_type": "code",
   "execution_count": 14,
   "metadata": {},
   "outputs": [
    {
     "name": "stdout",
     "output_type": "stream",
     "text": [
      "[0, 1, 4, 9, 16, 25, 36, 49, 64, 81]\n"
     ]
    }
   ],
   "source": [
    "from joblib import Parallel, delayed\n",
    "import multiprocessing\n",
    "inputs = range(10)\n",
    "def processInput(j):\n",
    "    return j*j\n",
    "num_cores = multiprocessing.cpu_count()\n",
    "results = Parallel(n_jobs=num_cores)(delayed(processInput)(i) for i in inputs)\n",
    "print(results)"
   ]
  },
  {
   "cell_type": "code",
   "execution_count": 15,
   "metadata": {
    "code_folding": [
     10
    ],
    "collapsed": true
   },
   "outputs": [],
   "source": [
    "from scipy.spatial import ConvexHull\n",
    "from scipy.stats import norm\n",
    "from scipy.optimize import curve_fit\n",
    "import matplotlib.pyplot as plt\n",
    "import matplotlib.image as mpimg\n",
    "import numpy as np\n",
    "import math\n",
    "import time\n",
    "\n",
    "# This function sets up more parameters and calls runSimulation\n",
    "def startSimulation(nlive,D,krep,maxnbact):\n",
    "    \n",
    "    # Set up more simulation parameters\n",
    "    delt = 0.01                                        # time step\n",
    "    dTime = math.log(2)/krep                           # doubling time\n",
    "    sigma = dTime/5                                    # width of distribution\n",
    "    bactpos = np.zeros((int(maxnbact*1.1),2))          # positions of bacteria\n",
    "    bacthist = np.zeros(int(maxnbact*1.1))             # time experience by bacteria\n",
    "    bactrep = np.zeros(int(maxnbact*1.1))              # doubling times for bacteria\n",
    "    rsquared = np.zeros(int(maxnbact*1.1))             # average R^2 for bacteria\n",
    "    bacteria_number = np.zeros(int(maxnbact*1.1))      # keep track of number of bacteria\n",
    "        \n",
    "    # assign doubling times to initial bacteria (normally distributed)\n",
    "    bactrep[0:nlive] = np.random.normal(dTime, sigma, nlive)\n",
    "\n",
    "    return runSimulation(0,nlive,2*D*delt,delt,dTime,sigma,bactpos,bacthist,bactrep,bacteria_number,rsquared)\n",
    "\n",
    "\n",
    "# This function runs the simulation in a for loop until nlive>maxnact\n",
    "def runSimulation(step,nlive,scaledD,delt,dTime,sigma,bactpos,bacthist,bactrep,bacteria_number,rsquared):\n",
    "    \n",
    "    while(1):\n",
    "        \n",
    "        # Step 1: end simulation if you have accumulated enough bacteria\n",
    "        if nlive>maxnbact:\n",
    "            return bactpos,bacteria_number,nlive,step,rsquared\n",
    "    \n",
    "        # Step 2: calculate time\n",
    "        bacthist[0:nlive] = bacthist[0:nlive] + delt\n",
    "    \n",
    "        # Step 3: calculate size of bacterial steps\n",
    "        delxy = np.multiply(np.array(stdNormalRand(nlive)), math.sqrt(scaledD))\n",
    "        #delxy = np.multiply(np.array(norm.rvs(size=(nlive,2))), math.sqrt(scaledD))\n",
    "        bactpos[0:nlive] = bactpos[0:nlive] + delxy\n",
    "        \n",
    "        # Step 4: calculate average R^2\n",
    "        #rsquared[step] = np.mean(np.sum(np.power(bactpos[0:nlive],2),1))\n",
    "        \n",
    "        # Step 5: replicate bacteria\n",
    "        bacthist[0:nlive],newbact,nrep = repBacteria(bactpos[0:nlive],bactrep[0:nlive],bacthist[0:nlive],nlive)\n",
    "        bactpos[nlive:nlive+nrep] = newbact\n",
    "        bactrep[nlive:nlive+nrep] = np.random.normal(dTime, sigma, nrep)\n",
    "        nlive += nrep\n",
    "        bacteria_number[step] = nlive\n",
    "        step+=1\n",
    "            \n",
    "\n",
    "# This function replicates bacteria when bacthist catches up with bacthist\n",
    "def repBacteria(bactpos,bactrep,bacthist,nlive):\n",
    "    repind = bactrep <= bacthist                   #indices of bacteria that will replicate\n",
    "    nrep = np.sum(repind)                          #number of bacteria that replicate\n",
    "    newbact = bactpos[repind,:]                    #positions of newly-replicated bacteria\n",
    "    bacthist[repind] = 0                           #bacterial history is reset to zero\n",
    "    return bacthist,newbact,nrep"
   ]
  },
  {
   "cell_type": "code",
   "execution_count": 16,
   "metadata": {
    "code_folding": [
     0
    ],
    "collapsed": true
   },
   "outputs": [],
   "source": [
    "# Smallest enclosing circle - Library (Python)\n",
    "# \n",
    "# Copyright (c) 2017 Project Nayuki\n",
    "# https://www.nayuki.io/page/smallest-enclosing-circle\n",
    "# \n",
    "# This program is free software: you can redistribute it and/or modify\n",
    "# it under the terms of the GNU Lesser General Public License as published by\n",
    "# the Free Software Foundation, either version 3 of the License, or\n",
    "# (at your option) any later version.\n",
    "# \n",
    "# This program is distributed in the hope that it will be useful,\n",
    "# but WITHOUT ANY WARRANTY; without even the implied warranty of\n",
    "# MERCHANTABILITY or FITNESS FOR A PARTICULAR PURPOSE.  See the\n",
    "# GNU Lesser General Public License for more details.\n",
    "# \n",
    "# You should have received a copy of the GNU Lesser General Public License\n",
    "# along with this program (see COPYING.txt and COPYING.LESSER.txt).\n",
    "# If not, see <http://www.gnu.org/licenses/>.\n",
    "# \n",
    "\n",
    "import math, random\n",
    "\n",
    "\n",
    "# Data conventions: A point is a pair of floats (x, y). A circle is a triple of floats (center x, center y, radius).\n",
    "\n",
    "# Returns the smallest circle that encloses all the given points. Runs in expected O(n) time, randomized.\n",
    "# Input: A sequence of pairs of floats or ints, e.g. [(0,5), (3.1,-2.7)].\n",
    "# Output: A triple of floats representing a circle.\n",
    "# Note: If 0 points are given, None is returned. If 1 point is given, a circle of radius 0 is returned.\n",
    "# \n",
    "# Initially: No boundary points known\n",
    "def make_circle(points):\n",
    "    # Convert to float and randomize order\n",
    "    shuffled = [(float(x), float(y)) for (x, y) in points]\n",
    "    random.shuffle(shuffled)\n",
    "\n",
    "    # Progressively add points to circle or recompute circle\n",
    "    c = None\n",
    "    for (i, p) in enumerate(shuffled):\n",
    "        if c is None or not is_in_circle(c, p):\n",
    "            c = _make_circle_one_point(shuffled[ : i + 1], p)\n",
    "    return c\n",
    "\n",
    "\n",
    "# One boundary point known\n",
    "def _make_circle_one_point(points, p):\n",
    "    c = (p[0], p[1], 0.0)\n",
    "    for (i, q) in enumerate(points):\n",
    "        if not is_in_circle(c, q):\n",
    "            if c[2] == 0.0:\n",
    "                c = make_diameter(p, q)\n",
    "            else:\n",
    "                c = _make_circle_two_points(points[ : i + 1], p, q)\n",
    "    return c\n",
    "\n",
    "\n",
    "# Two boundary points known\n",
    "def _make_circle_two_points(points, p, q):\n",
    "    circ = make_diameter(p, q)\n",
    "    left = None\n",
    "    right = None\n",
    "    px, py = p\n",
    "    qx, qy = q\n",
    "\n",
    "    # For each point not in the two-point circle\n",
    "    for r in points:\n",
    "        if is_in_circle(circ, r):\n",
    "            continue\n",
    "\n",
    "        # Form a circumcircle and classify it on left or right side\n",
    "        cross = _cross_product(px, py, qx, qy, r[0], r[1])\n",
    "        c = make_circumcircle(p, q, r)\n",
    "        if c is None:\n",
    "            continue\n",
    "        elif cross > 0.0 and (left is None or _cross_product(px, py, qx, qy, c[0], c[1]) > _cross_product(px, py, qx, qy, left[0], left[1])):\n",
    "            left = c\n",
    "        elif cross < 0.0 and (right is None or _cross_product(px, py, qx, qy, c[0], c[1]) < _cross_product(px, py, qx, qy, right[0], right[1])):\n",
    "            right = c\n",
    "\n",
    "    # Select which circle to return\n",
    "    if left is None and right is None:\n",
    "        return circ\n",
    "    elif left is None:\n",
    "        return right\n",
    "    elif right is None:\n",
    "        return left\n",
    "    else:\n",
    "        return left if (left[2] <= right[2]) else right\n",
    "\n",
    "\n",
    "def make_circumcircle(p0, p1, p2):\n",
    "    # Mathematical algorithm from Wikipedia: Circumscribed circle\n",
    "    ax, ay = p0\n",
    "    bx, by = p1\n",
    "    cx, cy = p2\n",
    "    ox = (min(ax, bx, cx) + max(ax, bx, cx)) / 2.0\n",
    "    oy = (min(ay, by, cy) + max(ay, by, cy)) / 2.0\n",
    "    ax -= ox; ay -= oy\n",
    "    bx -= ox; by -= oy\n",
    "    cx -= ox; cy -= oy\n",
    "    d = (ax * (by - cy) + bx * (cy - ay) + cx * (ay - by)) * 2.0\n",
    "    if d == 0.0:\n",
    "        return None\n",
    "    x = ox + ((ax * ax + ay * ay) * (by - cy) + (bx * bx + by * by) * (cy - ay) + (cx * cx + cy * cy) * (ay - by)) / d\n",
    "    y = oy + ((ax * ax + ay * ay) * (cx - bx) + (bx * bx + by * by) * (ax - cx) + (cx * cx + cy * cy) * (bx - ax)) / d\n",
    "    ra = math.hypot(x - p0[0], y - p0[1])\n",
    "    rb = math.hypot(x - p1[0], y - p1[1])\n",
    "    rc = math.hypot(x - p2[0], y - p2[1])\n",
    "    return (x, y, max(ra, rb, rc))\n",
    "\n",
    "\n",
    "def make_diameter(p0, p1):\n",
    "    cx = (p0[0] + p1[0]) / 2.0\n",
    "    cy = (p0[1] + p1[1]) / 2.0\n",
    "    r0 = math.hypot(cx - p0[0], cy - p0[1])\n",
    "    r1 = math.hypot(cx - p1[0], cy - p1[1])\n",
    "    return (cx, cy, max(r0, r1))\n",
    "\n",
    "\n",
    "_MULTIPLICATIVE_EPSILON = 1 + 1e-14\n",
    "\n",
    "def is_in_circle(c, p):\n",
    "    return c is not None and math.hypot(p[0] - c[0], p[1] - c[1]) <= c[2] * _MULTIPLICATIVE_EPSILON\n",
    "\n",
    "\n",
    "# Returns twice the signed area of the triangle defined by (x0, y0), (x1, y1), (x2, y2).\n",
    "def _cross_product(x0, y0, x1, y1, x2, y2):\n",
    "    return (x1 - x0) * (y2 - y0) - (y1 - y0) * (x2 - x0)\n"
   ]
  },
  {
   "cell_type": "code",
   "execution_count": 17,
   "metadata": {
    "code_folding": [
     0
    ],
    "collapsed": true
   },
   "outputs": [],
   "source": [
    "%%cython\n",
    "\n",
    "import numpy as np\n",
    "cimport numpy as np\n",
    "import math\n",
    "#cdef extern from \"math.h\":\n",
    "#    double exp(double)\n",
    "\n",
    "DTYPE = np.float64\n",
    "ctypedef np.float64_t DTYPE_t\n",
    "\n",
    "def gaussian(np.ndarray[DTYPE_t,ndim=2] data,sigma):\n",
    "    cdef int n_instances,n_features\n",
    "    cdef Py_ssize_t i,j\n",
    "    cdef DTYPE_t tmp\n",
    "    cdef np.ndarray[DTYPE_t,ndim=2] mtr\n",
    "\n",
    "    n_instances = data.shape[0]\n",
    "    n_features = data.shape[1]\n",
    "    mtr = np.zeros((n_instances,n_instances),dtype=DTYPE)\n",
    "    for i in range(n_instances):\n",
    "        for j in range(n_instances):\n",
    "            tmp = sum((data[i,:]-data[j,:])**2)\n",
    "    \n",
    "    return mtr\n"
   ]
  },
  {
   "cell_type": "code",
   "execution_count": null,
   "metadata": {
    "code_folding": [
     0
    ],
    "collapsed": true
   },
   "outputs": [],
   "source": [
    "%%cython -lgsl -lgslcblas\n",
    "\n",
    "cimport cython\n",
    "from cython_gsl cimport *\n",
    "import numpy as np\n",
    "cimport numpy as np\n",
    "cdef gsl_rng *r = gsl_rng_alloc(gsl_rng_mt19937)\n",
    "\n",
    "@cython.boundscheck(False)\n",
    "@cython.wraparound(False)\n",
    "def stdNormalRand(int N):\n",
    "    cdef:\n",
    "        double x = 0\n",
    "        double y = 0\n",
    "        Py_ssize_t i, j\n",
    "        np.ndarray[np.float64_t, ndim=2] samples = np.empty((N, 2), dtype=np.float64)\n",
    "    for i in range(N):\n",
    "        x = gsl_ran_gaussian(r,1)\n",
    "        y = gsl_ran_gaussian(r,1)\n",
    "        samples[i,0] = x\n",
    "        samples[i,1] = y\n",
    "    return samples"
   ]
  },
  {
   "cell_type": "code",
   "execution_count": null,
   "metadata": {
    "collapsed": true
   },
   "outputs": [],
   "source": [
    "# Use this block of code to run simulation N number of times\n",
    "# Set N=1 if you want to run simulation once\n",
    "\n",
    "# Simulation parameters\n",
    "D = 1.0                                           # diffusion coefficient\n",
    "krep = 1.0                                        # replication rate\n",
    "nlive = 25                                        # initial number of bacteria\n",
    "maxnbact = int(1e5)                               # max number of bacteria\n",
    "\n",
    "N = 1                                             # number of times to run sim\n",
    "circData = np.zeros((N,1))                        # circularity data\n",
    "bactNumData = np.zeros((int(maxnbact*1.1),N))     # bactnum data\n",
    "rsquaredData = np.zeros((int(maxnbact*1.1),N))    # R^2 data\n",
    "bactposData = np.zeros((int(maxnbact*1.1),2,N))   # bactpos data\n",
    "\n",
    "\n",
    "# Run simulation N number of times\n",
    "t0 = time.time()\n",
    "for each in range(0,N):\n",
    "    bactpos,bacteriaNum,maxlive,step,rsquared = startSimulation(nlive,D,krep,maxnbact)\n",
    "    hull = ConvexHull(bactpos)\n",
    "    x,y,r = make_circle(bactpos[hull.vertices])\n",
    "    circData[each] = 1 - hull.volume/(3.14*(r**2))\n",
    "    bactposData[:,:,each] = bactpos\n",
    "    bactNumData[:,each] = bacteriaNum\n",
    "    rsquaredData[:,each] = rsquared\n",
    "print(time.time()-t0, \"seconds process time\")\n",
    "\n",
    "# Print mean of circularity data\n",
    "print(\"Mean Circularity =\",round(np.mean(circData),2))"
   ]
  },
  {
   "cell_type": "code",
   "execution_count": null,
   "metadata": {
    "collapsed": true
   },
   "outputs": [],
   "source": [
    "# Use this code to visualize specific simulation runs\n",
    "\n",
    "# First, decide which simulation run you want to look at in range(0,N), and extract those data\n",
    "simRun = 0\n",
    "bactNum = bactNumData[:,simRun]\n",
    "bactpos = bactposData[:,:,simRun]\n",
    "rsquared = rsquaredData[:,simRun]\n",
    "\n",
    "\n",
    "# Second, calculate convex hull of bacterial focus and plot it\n",
    "# NOTE: volume of a 2D convex hull is indeed the area.\n",
    "plt.scatter(bactpos[0:maxlive][:,0], bactpos[0:maxlive][:,1],1,'r')\n",
    "hull = ConvexHull(bactpos)\n",
    "for simplex in hull.simplices:\n",
    "    plt.plot(bactpos[simplex, 0], bactpos[simplex, 1], 'k-')\n",
    "plt.axis('equal')\n",
    "plt.show\n",
    "\n",
    "\n",
    "# Third, determine area of smallest enclosing circle (and plot it)\n",
    "plt.scatter(bactpos[hull.vertices][:,0],bactpos[hull.vertices][:,1],10,'g')\n",
    "x,y,r = make_circle(bactpos[hull.vertices])\n",
    "areaCircle = np.pi*(r**2)\n",
    "an = np.linspace(0, 2*np.pi, 100)\n",
    "plt.plot(r*np.cos(an)+x, r*np.sin(an)+y)\n",
    "\n",
    "\n",
    "# Finally, calculate ratio of areas\n",
    "circularity = 1 - hull.volume/areaCircle\n",
    "print(\"Area of Convex Hull =\",round(hull.volume,1))\n",
    "print(\"Area of Enclosing Circle =\",round(areaCircle,1))\n",
    "print(\"Circularity =\",round(circularity,2))"
   ]
  },
  {
   "cell_type": "code",
   "execution_count": null,
   "metadata": {
    "collapsed": true
   },
   "outputs": [],
   "source": [
    "# Plot exponential bacterial growth\n",
    "delt = 0.01\n",
    "maxTime = step*delt\n",
    "time = np.arange(0, maxTime, delt)\n",
    "plt.plot(time[0:step],bactNum[0:step])\n",
    "plt.xlabel('Time')\n",
    "plt.ylabel('Number of Bacteria')\n",
    "plt.title('Exponential Bacterial Growth')\n",
    "plt.show\n",
    "\n",
    "def expfunc(x, a, b):\n",
    "    return a * np.exp(b * x)\n",
    "\n",
    "expOpt, expCov = curve_fit(expfunc, time[0:step], bactNum[0:step])\n",
    "print('Replication rate = %s' % round(expOpt[1],1))"
   ]
  },
  {
   "cell_type": "code",
   "execution_count": null,
   "metadata": {
    "collapsed": true
   },
   "outputs": [],
   "source": [
    "# Plot average r^2\n",
    "plt.plot(time[0:step],rsquared[0:step])\n",
    "plt.xlabel('Time')\n",
    "plt.ylabel('Average R Squared')\n",
    "plt.title('Linearity of Second Moment')\n",
    "plt.show\n",
    "\n",
    "def linfunc(x, m, b):\n",
    "    return m*x+b\n",
    "\n",
    "linOpt, expCov = curve_fit(linfunc, time[0:step], rsquared[0:step])\n",
    "DiffCoeff = linOpt[0]/4\n",
    "print('Diffusion Coefficient = %s' % round(DiffCoeff,1))"
   ]
  },
  {
   "cell_type": "code",
   "execution_count": 19,
   "metadata": {
    "collapsed": true
   },
   "outputs": [],
   "source": [
    "# Use this to profile the simulation line by line\n",
    "\n",
    "%lprun -f runSimulation startSimulation(nlive,D,krep,maxnbact)"
   ]
  },
  {
   "cell_type": "code",
   "execution_count": null,
   "metadata": {
    "collapsed": true
   },
   "outputs": [],
   "source": [
    "# Fun speed test\n",
    "\n",
    "from scipy.stats import norm\n",
    "import time\n",
    "numTrials = 1\n",
    "SciPyTimes = np.zeros((numTrials,1))\n",
    "CythonTimes = np.zeros((numTrials,1))\n",
    "testNumber = 10000000\n",
    "\n",
    "for ii in range(0,numTrials):\n",
    "    # Test scipy generation of random numbers drawn from Gaussian\n",
    "    \n",
    "    startTime = time.time()\n",
    "    r = norm.rvs(size=testNumber)\n",
    "    endTime = time.time()\n",
    "    myTime = endTime - startTime\n",
    "    SciPyTimes[ii] = myTime\n",
    "    #print('SciPy took %s seconds to calculate.' % myTime)\n",
    "\n",
    "    # Test Cython generation of random numbers drawn from Gaussian\n",
    "    startTime2 = time.time()\n",
    "    r2 = my_gaussian_fast(testNumber)\n",
    "    endTime2 = time.time()\n",
    "    myTime2 = endTime2 - startTime2\n",
    "    CythonTimes[ii] = myTime2\n",
    "    #print('Cython took %s seconds to calculate.' % myTime2)"
   ]
  },
  {
   "cell_type": "code",
   "execution_count": 2,
   "metadata": {},
   "outputs": [
    {
     "name": "stdout",
     "output_type": "stream",
     "text": [
      "sqrt(3)\n",
      "√3\n"
     ]
    }
   ],
   "source": [
    "import sympy as sp\n",
    "print(sp.sqrt(3))\n",
    "sp.init_printing(use_unicode=True)\n",
    "sp.pprint(sp.sqrt(3))"
   ]
  },
  {
   "cell_type": "code",
   "execution_count": null,
   "metadata": {
    "collapsed": true
   },
   "outputs": [],
   "source": []
  }
 ],
 "metadata": {
  "kernelspec": {
   "display_name": "Python 2",
   "language": "python",
   "name": "python2"
  },
  "language_info": {
   "codemirror_mode": {
    "name": "ipython",
    "version": 2
   },
   "file_extension": ".py",
   "mimetype": "text/x-python",
   "name": "python",
   "nbconvert_exporter": "python",
   "pygments_lexer": "ipython2",
   "version": "2.7.14"
  }
 },
 "nbformat": 4,
 "nbformat_minor": 2
}
