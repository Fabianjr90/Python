{
 "cells": [
  {
   "cell_type": "code",
   "execution_count": 29,
   "metadata": {},
   "outputs": [
    {
     "name": "stdout",
     "output_type": "stream",
     "text": [
      "The line_profiler extension is already loaded. To reload it, use:\n",
      "  %reload_ext line_profiler\n",
      "The Cython extension is already loaded. To reload it, use:\n",
      "  %reload_ext Cython\n"
     ]
    }
   ],
   "source": [
    "%matplotlib inline\n",
    "from scipy.spatial import ConvexHull\n",
    "import matplotlib.pyplot as plt\n",
    "import matplotlib.image as mpimg\n",
    "import numpy as np\n",
    "import math\n",
    "\n",
    "# need to install line_profiler: username$ conda install line_profiler\n",
    "# used to do a line-by-line analysis of the efficiency of the code\n",
    "%load_ext line_profiler\n",
    "\n",
    "# load cython to make random number generation faster\n",
    "%load_ext Cython\n",
    "\n",
    "\n",
    "# This function sets up more parameters and calls runSimulation\n",
    "def startSimulation(nlive,D,krep,maxnbact):\n",
    "    \n",
    "    # Set up more simulation parameters\n",
    "    delt = 0.01                                        # time step\n",
    "    dTime = math.log(2)/krep                           # doubling time\n",
    "    sigma = dTime/5                                    # width of distribution\n",
    "    bactpos = np.zeros((int(maxnbact*1.1),2))          # positions of bacteria\n",
    "    bacthist = np.zeros((int(maxnbact*1.1),1))         # time experience by bacteria\n",
    "    bactrep = np.zeros((int(maxnbact*1.1),1))          # doubling times for bacteria\n",
    "    maxstep = 1000                                     # max number of steps allowed\n",
    "    bacteria_number = np.zeros((maxstep,1))            # keep track of number of bacteria\n",
    "    time = np.zeros((maxstep,1))                       # keep track of passing time\n",
    "\n",
    "    # assign doubling times to initial bacteria (normally distributed)\n",
    "    bactrep[0:nlive] = np.random.normal(dTime, sigma, [nlive,1])\n",
    "\n",
    "    return runSimulation(0,nlive,2*D*delt,delt,dTime,sigma,bactpos,bacthist,bactrep,bacteria_number)\n",
    "\n",
    "\n",
    "# This function runs the simulation in a for loop until nlive>maxnact\n",
    "def runSimulation(step,nlive,scaledD,delt,dTime,sigma,bactpos,bacthist,bactrep,bacteria_number):\n",
    "    \n",
    "    while(1):\n",
    "        \n",
    "        # Step 1: end simulation if you have accumulated enough bacteria\n",
    "        if nlive>maxnbact:\n",
    "            return bactpos,bacteria_number,nlive,step\n",
    "    \n",
    "        # Step 2: calculate time\n",
    "        bacthist[0:nlive] = bacthist[0:nlive] + delt\n",
    "    \n",
    "        # Step 3: calculate size of bacterial steps\n",
    "        delxy = np.multiply( np.array(my_gaussian_fast(2*nlive)).reshape(nlive,2), math.sqrt(scaledD))\n",
    "        bactpos[0:nlive] = bactpos[0:nlive] + delxy\n",
    "    \n",
    "        # Step 4: replicate bacteria\n",
    "        bacthist,newbact,nrep = repBacteria(bactpos[0:nlive],bactrep[0:nlive],bacthist,nlive)\n",
    "        nlive += nrep\n",
    "        bacteria_number[step] = nlive\n",
    "        step+=1\n",
    "        if nrep>0:\n",
    "            bactpos[nlive:nlive+nrep] = newbact\n",
    "            bactrep[nlive:nlive+nrep] = np.random.normal(dTime, sigma, [nrep,1])\n",
    "            \n",
    "\n",
    "# This function replicates bacteria when bacthist catches up with bacthist\n",
    "def repBacteria(bactpos,bactrep,bacthist,nlive):\n",
    "    repind = bactrep < bacthist[0:nlive]           #indices of bacteria that will replicate\n",
    "    repind = repind.reshape(nlive)                 #reshape repind for indexing\n",
    "    nrep = np.sum(repind)                          #number of bacteria that replicate\n",
    "    newbact = bactpos[repind,:]                    #positions of newly-replicated bacteria\n",
    "    bacthist[0:nlive][repind] = 0                  #bacterial history is reset to zero\n",
    "    return bacthist,newbact,nrep"
   ]
  },
  {
   "cell_type": "code",
   "execution_count": 30,
   "metadata": {
    "collapsed": true
   },
   "outputs": [],
   "source": [
    "%%cython\n",
    "\n",
    "# This code makes Gaussian random number generation faster than numpy\n",
    "\n",
    "from libc.stdlib cimport rand, RAND_MAX\n",
    "from libc.math cimport log, sqrt\n",
    "import numpy as np\n",
    "import cython\n",
    "\n",
    "cdef double random_uniform():\n",
    "    cdef double r = rand()\n",
    "    return r / RAND_MAX\n",
    "\n",
    "cdef double random_gaussian():\n",
    "    cdef double x1, x2, w\n",
    "\n",
    "    w = 2.0\n",
    "    while (w >= 1.0):\n",
    "        x1 = 2.0 * random_uniform() - 1.0\n",
    "        x2 = 2.0 * random_uniform() - 1.0\n",
    "        w = x1 * x1 + x2 * x2\n",
    "\n",
    "    w = ((-2.0 * log(w)) / w) ** 0.5\n",
    "    return x1 * w\n",
    "\n",
    "@cython.boundscheck(False)\n",
    "cdef void assign_random_gaussian_pair(double[:] out, int assign_ix):\n",
    "    cdef double x1, x2, w\n",
    "\n",
    "    w = 2.0\n",
    "    while (w >= 1.0):\n",
    "        x1 = 2.0 * random_uniform() - 1.0\n",
    "        x2 = 2.0 * random_uniform() - 1.0\n",
    "        w = x1 * x1 + x2 * x2\n",
    "\n",
    "    w = sqrt((-2.0 * log(w)) / w)\n",
    "    out[assign_ix] = x1 * w\n",
    "    out[assign_ix + 1] = x2 * 2\n",
    "\n",
    "@cython.boundscheck(False)\n",
    "def my_gaussian_fast(int n):\n",
    "    cdef int i\n",
    "    cdef double[:] result = np.zeros(n, dtype='f8', order='C')\n",
    "    for i in range(n // 2):  # Int division ensures trailing index if n is odd.\n",
    "        assign_random_gaussian_pair(result, i * 2)\n",
    "    if n % 2 == 1:\n",
    "        result[n - 1] = random_gaussian()\n",
    "\n",
    "    return result"
   ]
  },
  {
   "cell_type": "code",
   "execution_count": 31,
   "metadata": {
    "collapsed": true
   },
   "outputs": [],
   "source": [
    "### Use this block of code to run simulation\n",
    "\n",
    "# Simulation parameters\n",
    "D = 1.0                     # diffusion coefficient\n",
    "krep = 1.0                  # replication rate\n",
    "nlive = 25                  # initial number of bacteria\n",
    "maxnbact = int(1e5)         # max number of bacteria\n",
    "\n",
    "# Run simulation\n",
    "bactpos,bacteria_number,maxlive,step = startSimulation(nlive,D,krep,maxnbact)"
   ]
  },
  {
   "cell_type": "code",
   "execution_count": 32,
   "metadata": {},
   "outputs": [
    {
     "data": {
      "text/plain": [
       "<function matplotlib.pyplot.show>"
      ]
     },
     "execution_count": 32,
     "metadata": {},
     "output_type": "execute_result"
    },
    {
     "data": {
      "image/png": "[encoded data removed]",
      "text/plain": [
       "<matplotlib.figure.Figure at 0x607d38310>"
      ]
     },
     "metadata": {},
     "output_type": "display_data"
    }
   ],
   "source": [
    "# Calculate convex hull of bacterial focus and plot it\n",
    "hull = ConvexHull(bactpos)\n",
    "plt.scatter(bactpos[0:maxlive][:,0], bactpos[0:maxlive][:,1],1,'r')\n",
    "for simplex in hull.simplices:\n",
    "    plt.plot(bactpos[simplex, 0], bactpos[simplex, 1], 'k-')\n",
    "plt.axis('equal')\n",
    "plt.show"
   ]
  },
  {
   "cell_type": "code",
   "execution_count": 33,
   "metadata": {},
   "outputs": [
    {
     "data": {
      "text/plain": [
       "<function matplotlib.pyplot.show>"
      ]
     },
     "execution_count": 33,
     "metadata": {},
     "output_type": "execute_result"
    },
    {
     "data": {
      "image/png": "[encoded data removed]",
      "text/plain": [
       "<matplotlib.figure.Figure at 0x10758e850>"
      ]
     },
     "metadata": {},
     "output_type": "display_data"
    }
   ],
   "source": [
    "# Plot exponential bacterial growth\n",
    "delt = 0.01\n",
    "maxTime = step*delt\n",
    "time = np.arange(0, maxTime, delt)\n",
    "plt.plot(time[0:step],bacteria_number[0:step])\n",
    "plt.xlabel('Time')\n",
    "plt.ylabel('Number of Bacteria')\n",
    "plt.title('Exponential Bacterial Growth')\n",
    "plt.show"
   ]
  },
  {
   "cell_type": "code",
   "execution_count": 34,
   "metadata": {
    "collapsed": true
   },
   "outputs": [],
   "source": [
    "# Use this to profile the simulation line by line\n",
    "\n",
    "%lprun -f runSimulation startSimulation(nlive,D,krep,maxnbact)"
   ]
  },
  {
   "cell_type": "code",
   "execution_count": null,
   "metadata": {
    "collapsed": true
   },
   "outputs": [],
   "source": []
  }
 ],
 "metadata": {
  "kernelspec": {
   "display_name": "Python 2",
   "language": "python",
   "name": "python2"
  },
  "language_info": {
   "codemirror_mode": {
    "name": "ipython",
    "version": 2
   },
   "file_extension": ".py",
   "mimetype": "text/x-python",
   "name": "python",
   "nbconvert_exporter": "python",
   "pygments_lexer": "ipython2",
   "version": "2.7.14"
  }
 },
 "nbformat": 4,
 "nbformat_minor": 2
}
